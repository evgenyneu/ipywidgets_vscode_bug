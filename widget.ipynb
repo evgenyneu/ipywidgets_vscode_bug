{
 "cells": [
  {
   "cell_type": "code",
   "execution_count": 1,
   "id": "989b0671",
   "metadata": {},
   "outputs": [
    {
     "data": {
      "application/vnd.jupyter.widget-view+json": {
       "model_id": "7922b5a4dce24f2b8bca0d19905b780a",
       "version_major": 2,
       "version_minor": 0
      },
      "text/plain": [
       "interactive(children=(IntSlider(value=10, description='x', max=30, min=-10), Output()), _dom_classes=('widget-…"
      ]
     },
     "metadata": {},
     "output_type": "display_data"
    }
   ],
   "source": [
    "from ipywidgets import interact\n",
    "\n",
    "def f(x):\n",
    "    print(x)\n",
    "    \n",
    "interact(f, x=10);"
   ]
  }
 ],
 "metadata": {
  "interpreter": {
   "hash": "8365a3a21eefcd9a8d1626b1b70b9075789e054d1f85a281b7763e0fa3a297b6"
  },
  "kernelspec": {
   "display_name": "Python 3.10.0 64-bit ('.venv': venv)",
   "language": "python",
   "name": "python3"
  },
  "language_info": {
   "codemirror_mode": {
    "name": "ipython",
    "version": 3
   },
   "file_extension": ".py",
   "mimetype": "text/x-python",
   "name": "python",
   "nbconvert_exporter": "python",
   "pygments_lexer": "ipython3",
   "version": "3.9.5"
  }
 },
 "nbformat": 4,
 "nbformat_minor": 5
}
